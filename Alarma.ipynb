{
  "cells": [
    {
      "cell_type": "code",
      "execution_count": 1,
      "metadata": {
        "colab": {
          "base_uri": "https://localhost:8080/"
        },
        "id": "RcHfT72GyoF_",
        "outputId": "f9eb42e0-e019-4a2d-c2d9-d02f8c2ad0a8"
      },
      "outputs": [
        {
          "name": "stdout",
          "output_type": "stream",
          "text": [
            "Requirement already satisfied: pgmpy in c:\\users\\lenovo\\anaconda3\\lib\\site-packages (0.1.23)\n",
            "Requirement already satisfied: opt-einsum in c:\\users\\lenovo\\anaconda3\\lib\\site-packages (from pgmpy) (3.3.0)\n",
            "Requirement already satisfied: torch in c:\\users\\lenovo\\anaconda3\\lib\\site-packages (from pgmpy) (2.0.1)\n",
            "Requirement already satisfied: networkx in c:\\users\\lenovo\\anaconda3\\lib\\site-packages (from pgmpy) (2.5)\n",
            "Requirement already satisfied: pandas in c:\\users\\lenovo\\anaconda3\\lib\\site-packages (from pgmpy) (1.1.3)\n",
            "Requirement already satisfied: numpy in c:\\users\\lenovo\\anaconda3\\lib\\site-packages (from pgmpy) (1.19.2)\n",
            "Requirement already satisfied: scikit-learn in c:\\users\\lenovo\\anaconda3\\lib\\site-packages (from pgmpy) (0.23.2)\n",
            "Requirement already satisfied: pyparsing in c:\\users\\lenovo\\anaconda3\\lib\\site-packages (from pgmpy) (2.4.7)\n",
            "Requirement already satisfied: joblib in c:\\users\\lenovo\\anaconda3\\lib\\site-packages (from pgmpy) (0.17.0)\n",
            "Requirement already satisfied: statsmodels in c:\\users\\lenovo\\anaconda3\\lib\\site-packages (from pgmpy) (0.12.0)\n",
            "Requirement already satisfied: tqdm in c:\\users\\lenovo\\anaconda3\\lib\\site-packages (from pgmpy) (4.50.2)\n",
            "Requirement already satisfied: scipy in c:\\users\\lenovo\\anaconda3\\lib\\site-packages (from pgmpy) (1.5.2)\n",
            "Requirement already satisfied: sympy in c:\\users\\lenovo\\anaconda3\\lib\\site-packages (from torch->pgmpy) (1.6.2)\n",
            "Requirement already satisfied: jinja2 in c:\\users\\lenovo\\anaconda3\\lib\\site-packages (from torch->pgmpy) (2.11.2)\n",
            "Requirement already satisfied: typing-extensions in c:\\users\\lenovo\\anaconda3\\lib\\site-packages (from torch->pgmpy) (3.7.4.3)\n",
            "Requirement already satisfied: filelock in c:\\users\\lenovo\\anaconda3\\lib\\site-packages (from torch->pgmpy) (3.0.12)\n",
            "Requirement already satisfied: decorator>=4.3.0 in c:\\users\\lenovo\\anaconda3\\lib\\site-packages (from networkx->pgmpy) (4.4.2)\n",
            "Requirement already satisfied: python-dateutil>=2.7.3 in c:\\users\\lenovo\\anaconda3\\lib\\site-packages (from pandas->pgmpy) (2.8.1)\n",
            "Requirement already satisfied: pytz>=2017.2 in c:\\users\\lenovo\\anaconda3\\lib\\site-packages (from pandas->pgmpy) (2020.1)\n",
            "Requirement already satisfied: threadpoolctl>=2.0.0 in c:\\users\\lenovo\\anaconda3\\lib\\site-packages (from scikit-learn->pgmpy) (2.1.0)\n",
            "Requirement already satisfied: patsy>=0.5 in c:\\users\\lenovo\\anaconda3\\lib\\site-packages (from statsmodels->pgmpy) (0.5.1)\n",
            "Requirement already satisfied: mpmath>=0.19 in c:\\users\\lenovo\\anaconda3\\lib\\site-packages (from sympy->torch->pgmpy) (1.1.0)\n",
            "Requirement already satisfied: MarkupSafe>=0.23 in c:\\users\\lenovo\\anaconda3\\lib\\site-packages (from jinja2->torch->pgmpy) (1.1.1)\n",
            "Requirement already satisfied: six>=1.5 in c:\\users\\lenovo\\anaconda3\\lib\\site-packages (from python-dateutil>=2.7.3->pandas->pgmpy) (1.15.0)\n",
            "Note: you may need to restart the kernel to use updated packages.\n"
          ]
        }
      ],
      "source": [
        "pip install pgmpy"
      ]
    },
    {
      "cell_type": "code",
      "execution_count": 2,
      "metadata": {
        "colab": {
          "base_uri": "https://localhost:8080/"
        },
        "id": "jZ-dXOFLy6bG",
        "outputId": "3fb12069-133c-4728-a34a-477e99da3adb"
      },
      "outputs": [
        {
          "name": "stdout",
          "output_type": "stream",
          "text": [
            "Requirement already satisfied: torch in c:\\users\\lenovo\\anaconda3\\lib\\site-packages (2.0.1)\n",
            "Requirement already satisfied: filelock in c:\\users\\lenovo\\anaconda3\\lib\\site-packages (from torch) (3.0.12)\n",
            "Requirement already satisfied: networkx in c:\\users\\lenovo\\anaconda3\\lib\\site-packages (from torch) (2.5)\n",
            "Requirement already satisfied: jinja2 in c:\\users\\lenovo\\anaconda3\\lib\\site-packages (from torch) (2.11.2)\n",
            "Requirement already satisfied: typing-extensions in c:\\users\\lenovo\\anaconda3\\lib\\site-packages (from torch) (3.7.4.3)\n",
            "Requirement already satisfied: sympy in c:\\users\\lenovo\\anaconda3\\lib\\site-packages (from torch) (1.6.2)\n",
            "Requirement already satisfied: decorator>=4.3.0 in c:\\users\\lenovo\\anaconda3\\lib\\site-packages (from networkx->torch) (4.4.2)\n",
            "Requirement already satisfied: MarkupSafe>=0.23 in c:\\users\\lenovo\\anaconda3\\lib\\site-packages (from jinja2->torch) (1.1.1)\n",
            "Requirement already satisfied: mpmath>=0.19 in c:\\users\\lenovo\\anaconda3\\lib\\site-packages (from sympy->torch) (1.1.0)\n",
            "Note: you may need to restart the kernel to use updated packages.\n"
          ]
        }
      ],
      "source": [
        "pip install torch"
      ]
    },
    {
      "cell_type": "code",
      "execution_count": 3,
      "metadata": {
        "id": "c-ZQkADDy9sd"
      },
      "outputs": [],
      "source": [
        "import numpy as np\n",
        "import scipy\n",
        "import sklearn\n",
        "import pandas as pd\n",
        "import pyparsing\n",
        "import torch\n",
        "import statsmodels\n",
        "from tqdm import tqdm\n",
        "import joblib"
      ]
    },
    {
      "cell_type": "code",
      "execution_count": 4,
      "metadata": {
        "id": "Qr7BF6ISz3NM"
      },
      "outputs": [],
      "source": [
        "from pgmpy . models import BayesianNetwork\n",
        "from pgmpy . factors . discrete import TabularCPD"
      ]
    },
    {
      "cell_type": "code",
      "execution_count": 5,
      "metadata": {
        "id": "tWobDN6oz9Mb"
      },
      "outputs": [],
      "source": [
        "model = BayesianNetwork ([(\"R\", \"A\") , (\"S\", \"A\") , (\"A\", \"J\") , (\"A\", \"M\")])"
      ]
    },
    {
      "cell_type": "code",
      "execution_count": 6,
      "metadata": {
        "id": "mciDUSRd0RTe"
      },
      "outputs": [],
      "source": [
        "cpd_r = TabularCPD ( variable =\"R\", variable_card =2 , values =[[0.01] ,\n",
        "[0.99]])\n",
        "cpd_s = TabularCPD ( variable =\"S\", variable_card =2 , values =[[0.02] ,\n",
        "[0.98]])"
      ]
    },
    {
      "cell_type": "code",
      "execution_count": 7,
      "metadata": {
        "id": "R12bwe4n06QE"
      },
      "outputs": [],
      "source": [
        "cpd_a = TabularCPD (\n",
        "variable =\"A\",\n",
        "variable_card =2 ,\n",
        "values =[\n",
        "[0.95 , 0.94 , 0.29 , 0.001 ] ,\n",
        "[0.05 , 0.06 , 0.71 , 0.999] ,\n",
        "] ,\n",
        "evidence =[\"R\", \"S\"] ,\n",
        "evidence_card =[2 , 2] ,\n",
        ")\n"
      ]
    },
    {
      "cell_type": "code",
      "execution_count": 8,
      "metadata": {
        "id": "tiLAIQ-u4JGE"
      },
      "outputs": [],
      "source": [
        "cpd_j = TabularCPD (\n",
        "variable =\"J\",\n",
        "variable_card =2 ,\n",
        "values =[\n",
        "[0.90 , 0.05] ,\n",
        "[0.10 , 0.95] ,\n",
        "] ,\n",
        "evidence =[\"A\"] ,\n",
        "evidence_card =[2] ,\n",
        ")"
      ]
    },
    {
      "cell_type": "code",
      "execution_count": 9,
      "metadata": {
        "id": "Mcoe2STO4l2T"
      },
      "outputs": [],
      "source": [
        "cpd_m = TabularCPD (\n",
        "variable =\"M\",\n",
        "variable_card =2 ,\n",
        "values =[\n",
        "[0.70 , 0.01] ,\n",
        "[0.30 , 0.99] ,\n",
        "] ,\n",
        "evidence =[\"A\"] ,\n",
        "evidence_card =[2] ,\n",
        ")"
      ]
    },
    {
      "cell_type": "code",
      "execution_count": 10,
      "metadata": {
        "id": "hHa2cIh_4_H7"
      },
      "outputs": [],
      "source": [
        "model . add_cpds (cpd_r , cpd_s , cpd_a, cpd_j, cpd_m )"
      ]
    },
    {
      "cell_type": "code",
      "execution_count": 11,
      "metadata": {
        "colab": {
          "base_uri": "https://localhost:8080/"
        },
        "id": "Nhws133z5Ok6",
        "outputId": "452b6e65-478e-4293-d6b9-e49c72eb6a7e"
      },
      "outputs": [
        {
          "data": {
            "text/plain": [
              "True"
            ]
          },
          "execution_count": 11,
          "metadata": {},
          "output_type": "execute_result"
        }
      ],
      "source": [
        "model.check_model()"
      ]
    },
    {
      "cell_type": "code",
      "execution_count": 12,
      "metadata": {
        "colab": {
          "base_uri": "https://localhost:8080/"
        },
        "id": "9v7x3g-Z5WIz",
        "outputId": "1384e5c3-977d-4b03-a600-85e174568185"
      },
      "outputs": [
        {
          "name": "stdout",
          "output_type": "stream",
          "text": [
            "(M ⟂ S, J, R | A)\n",
            "(M ⟂ S, R | A, J)\n",
            "(M ⟂ J, R | A, S)\n",
            "(M ⟂ S, J | A, R)\n",
            "(M ⟂ R | A, J, S)\n",
            "(M ⟂ S | A, J, R)\n",
            "(M ⟂ J | A, R, S)\n",
            "(J ⟂ S, M, R | A)\n",
            "(J ⟂ S, R | A, M)\n",
            "(J ⟂ M, R | A, S)\n",
            "(J ⟂ S, M | A, R)\n",
            "(J ⟂ R | A, M, S)\n",
            "(J ⟂ S | A, M, R)\n",
            "(J ⟂ M | A, R, S)\n",
            "(S ⟂ R)\n",
            "(S ⟂ M, J | A)\n",
            "(S ⟂ J | A, M)\n",
            "(S ⟂ M | A, J)\n",
            "(S ⟂ M, J | A, R)\n",
            "(S ⟂ J | A, M, R)\n",
            "(S ⟂ M | A, J, R)\n",
            "(R ⟂ S)\n",
            "(R ⟂ M, J | A)\n",
            "(R ⟂ J | A, M)\n",
            "(R ⟂ M | A, J)\n",
            "(R ⟂ M, J | A, S)\n",
            "(R ⟂ J | A, M, S)\n",
            "(R ⟂ M | A, J, S)\n"
          ]
        }
      ],
      "source": [
        "print ( model . get_independencies () )"
      ]
    },
    {
      "cell_type": "code",
      "execution_count": 13,
      "metadata": {
        "colab": {
          "base_uri": "https://localhost:8080/"
        },
        "id": "YnBWRqnRWWFT",
        "outputId": "301b8b1e-47c6-412e-adc3-5899f4859493"
      },
      "outputs": [
        {
          "name": "stdout",
          "output_type": "stream",
          "text": [
            "[<TabularCPD representing P(R:2) at 0x28bde7fe370>, <TabularCPD representing P(S:2) at 0x28bde7fe310>, <TabularCPD representing P(A:2 | R:2, S:2) at 0x28bde7fe8e0>, <TabularCPD representing P(J:2 | A:2) at 0x28bde7fe940>, <TabularCPD representing P(M:2 | A:2) at 0x28bde7fe190>]\n"
          ]
        }
      ],
      "source": [
        "print ( model . get_cpds () )"
      ]
    },
    {
      "cell_type": "code",
      "execution_count": 14,
      "metadata": {
        "id": "sOz_HH_Z6d8u"
      },
      "outputs": [],
      "source": [
        "from pgmpy.inference import VariableElimination\n",
        "\n",
        "infer = VariableElimination(model)"
      ]
    },
    {
      "cell_type": "code",
      "execution_count": 15,
      "metadata": {
        "colab": {
          "base_uri": "https://localhost:8080/"
        },
        "id": "I4v2BbwO7TVK",
        "outputId": "3f346209-c19a-456c-a323-78234c2a537f"
      },
      "outputs": [
        {
          "name": "stdout",
          "output_type": "stream",
          "text": [
            "+------+----------+\n",
            "| R    |   phi(R) |\n",
            "+======+==========+\n",
            "| R(0) |   0.5565 |\n",
            "+------+----------+\n",
            "| R(1) |   0.4435 |\n",
            "+------+----------+\n"
          ]
        }
      ],
      "source": [
        "posterior_p = infer.query([\"R\"], evidence={\"J\": 0, \"M\": 0})\n",
        "print(posterior_p)"
      ]
    },
    {
      "cell_type": "code",
      "execution_count": 16,
      "metadata": {
        "colab": {
          "base_uri": "https://localhost:8080/"
        },
        "id": "kt1ke1ZI7tG0",
        "outputId": "b9344f50-43bc-42f3-f9be-bb8e663b3c7e"
      },
      "outputs": [
        {
          "name": "stdout",
          "output_type": "stream",
          "text": [
            "+------+----------+\n",
            "| R    |   phi(R) |\n",
            "+======+==========+\n",
            "| R(0) |   0.0484 |\n",
            "+------+----------+\n",
            "| R(1) |   0.9516 |\n",
            "+------+----------+\n"
          ]
        }
      ],
      "source": [
        "posterior_p = infer.query([\"R\"], evidence={\"J\": 0, \"M\": 1})\n",
        "print(posterior_p)"
      ]
    },
    {
      "cell_type": "code",
      "execution_count": 17,
      "metadata": {
        "colab": {
          "base_uri": "https://localhost:8080/"
        },
        "id": "mqKpiNgg7zjm",
        "outputId": "9ffd1ad9-c6c4-4c00-c011-a26378130f5f"
      },
      "outputs": [
        {
          "name": "stdout",
          "output_type": "stream",
          "text": [
            "+------+----------+\n",
            "| R    |   phi(R) |\n",
            "+======+==========+\n",
            "| R(0) |   0.0634 |\n",
            "+------+----------+\n",
            "| R(1) |   0.9366 |\n",
            "+------+----------+\n"
          ]
        }
      ],
      "source": [
        "posterior_p = infer.query([\"R\"], evidence={\"J\": 1, \"M\": 0})\n",
        "print(posterior_p)"
      ]
    },
    {
      "cell_type": "code",
      "execution_count": 18,
      "metadata": {
        "colab": {
          "base_uri": "https://localhost:8080/"
        },
        "id": "fcyTIo6771bl",
        "outputId": "a4e46b75-c9f9-48a6-9c93-a7efa616e2b5"
      },
      "outputs": [
        {
          "name": "stdout",
          "output_type": "stream",
          "text": [
            "+------+----------+\n",
            "| R    |   phi(R) |\n",
            "+======+==========+\n",
            "| R(0) |   0.0009 |\n",
            "+------+----------+\n",
            "| R(1) |   0.9991 |\n",
            "+------+----------+\n"
          ]
        }
      ],
      "source": [
        "posterior_p = infer.query([\"R\"], evidence={\"J\": 1, \"M\": 1})\n",
        "print(posterior_p)"
      ]
    },
    {
      "cell_type": "code",
      "execution_count": 19,
      "metadata": {
        "id": "EncDy6aSDoip"
      },
      "outputs": [],
      "source": [
        "model_ajustado = BayesianNetwork ([(\"R\", \"A\") , (\"S\", \"A\") , (\"A\", \"J\") , (\"A\", \"M\")])"
      ]
    },
    {
      "cell_type": "code",
      "execution_count": 20,
      "metadata": {
        "id": "A--HqIwz8ChY"
      },
      "outputs": [],
      "source": [
        "cpd_j_ajustado = TabularCPD (\n",
        "variable =\"J\",\n",
        "variable_card =2 ,\n",
        "values =[\n",
        "[0.90 , 0.01] ,\n",
        "[0.10 , 0.99] ,\n",
        "] ,\n",
        "evidence =[\"A\"] ,\n",
        "evidence_card =[2] ,\n",
        ")"
      ]
    },
    {
      "cell_type": "code",
      "execution_count": 21,
      "metadata": {
        "id": "qR1cpODfC1QQ"
      },
      "outputs": [],
      "source": [
        "cpd_m_ajustado = TabularCPD (\n",
        "variable =\"M\",\n",
        "variable_card =2 ,\n",
        "values =[\n",
        "[0.70 , 0.01] ,\n",
        "[0.30 , 0.99] ,\n",
        "] ,\n",
        "evidence =[\"A\"] ,\n",
        "evidence_card =[2] ,\n",
        ")"
      ]
    },
    {
      "cell_type": "code",
      "execution_count": 22,
      "metadata": {
        "id": "-PIy6XSZC-I9"
      },
      "outputs": [],
      "source": [
        "model_ajustado . add_cpds (cpd_r , cpd_s , cpd_a, cpd_j_ajustado, cpd_m_ajustado )"
      ]
    },
    {
      "cell_type": "code",
      "execution_count": 23,
      "metadata": {
        "colab": {
          "base_uri": "https://localhost:8080/"
        },
        "id": "j1IK3kGsDEkT",
        "outputId": "6a928b1b-de19-47dc-bcf4-861fda1a419b"
      },
      "outputs": [
        {
          "data": {
            "text/plain": [
              "True"
            ]
          },
          "execution_count": 23,
          "metadata": {},
          "output_type": "execute_result"
        }
      ],
      "source": [
        "model_ajustado.check_model()"
      ]
    },
    {
      "cell_type": "code",
      "execution_count": 24,
      "metadata": {
        "id": "T8P94ALuDWeS"
      },
      "outputs": [],
      "source": [
        "from pgmpy.inference import VariableElimination\n",
        "\n",
        "infer = VariableElimination(model_ajustado)"
      ]
    },
    {
      "cell_type": "code",
      "execution_count": 25,
      "metadata": {
        "colab": {
          "base_uri": "https://localhost:8080/"
        },
        "id": "_YJ2LueBD3St",
        "outputId": "2bca3b16-49bd-4683-82e7-1c84237ec994"
      },
      "outputs": [
        {
          "name": "stdout",
          "output_type": "stream",
          "text": [
            "+------+----------+\n",
            "| R    |   phi(R) |\n",
            "+======+==========+\n",
            "| R(0) |   0.5779 |\n",
            "+------+----------+\n",
            "| R(1) |   0.4221 |\n",
            "+------+----------+\n"
          ]
        }
      ],
      "source": [
        "posterior_p = infer.query([\"R\"], evidence={\"J\": 0, \"M\": 0})\n",
        "print(posterior_p)"
      ]
    },
    {
      "cell_type": "code",
      "execution_count": 26,
      "metadata": {
        "colab": {
          "base_uri": "https://localhost:8080/"
        },
        "id": "3wCq-LNjD4K3",
        "outputId": "536cf251-6526-4cec-bd17-c55378b53a44"
      },
      "outputs": [
        {
          "name": "stdout",
          "output_type": "stream",
          "text": [
            "+------+----------+\n",
            "| R    |   phi(R) |\n",
            "+======+==========+\n",
            "| R(0) |   0.0611 |\n",
            "+------+----------+\n",
            "| R(1) |   0.9389 |\n",
            "+------+----------+\n"
          ]
        }
      ],
      "source": [
        "posterior_p = infer.query([\"R\"], evidence={\"J\": 1, \"M\": 0})\n",
        "print(posterior_p)"
      ]
    },
    {
      "cell_type": "code",
      "execution_count": 27,
      "metadata": {
        "colab": {
          "base_uri": "https://localhost:8080/"
        },
        "id": "NQbxGdyXD42G",
        "outputId": "18c8078c-3f95-4e5f-d254-ad77a681ab51"
      },
      "outputs": [
        {
          "name": "stdout",
          "output_type": "stream",
          "text": [
            "+------+----------+\n",
            "| R    |   phi(R) |\n",
            "+======+==========+\n",
            "| R(0) |   0.1806 |\n",
            "+------+----------+\n",
            "| R(1) |   0.8194 |\n",
            "+------+----------+\n"
          ]
        }
      ],
      "source": [
        "posterior_p = infer.query([\"R\"], evidence={\"J\": 0, \"M\": 1})\n",
        "print(posterior_p)"
      ]
    },
    {
      "cell_type": "code",
      "execution_count": 28,
      "metadata": {
        "colab": {
          "base_uri": "https://localhost:8080/"
        },
        "id": "0yyPZpuqD5rN",
        "outputId": "a66e6647-ca29-4be8-c610-3cfb30f74e24"
      },
      "outputs": [
        {
          "name": "stdout",
          "output_type": "stream",
          "text": [
            "+------+----------+\n",
            "| R    |   phi(R) |\n",
            "+======+==========+\n",
            "| R(0) |   0.0009 |\n",
            "+------+----------+\n",
            "| R(1) |   0.9991 |\n",
            "+------+----------+\n"
          ]
        }
      ],
      "source": [
        "posterior_p = infer.query([\"R\"], evidence={\"J\": 1, \"M\": 1})\n",
        "print(posterior_p)"
      ]
    }
  ],
  "metadata": {
    "colab": {
      "provenance": []
    },
    "kernelspec": {
      "display_name": "Python 3",
      "name": "python3"
    },
    "language_info": {
      "codemirror_mode": {
        "name": "ipython",
        "version": 3
      },
      "file_extension": ".py",
      "mimetype": "text/x-python",
      "name": "python",
      "nbconvert_exporter": "python",
      "pygments_lexer": "ipython3",
      "version": "3.8.5"
    }
  },
  "nbformat": 4,
  "nbformat_minor": 0
}
